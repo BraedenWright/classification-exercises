{
 "cells": [
  {
   "cell_type": "code",
   "execution_count": 2,
   "id": "ca2c7b6a",
   "metadata": {},
   "outputs": [],
   "source": [
    "import numpy as np\n",
    "import pandas as pd\n",
    "\n",
    "import c3"
   ]
  },
  {
   "cell_type": "code",
   "execution_count": null,
   "id": "32b80c16",
   "metadata": {},
   "outputs": [],
   "source": [
    "# for reference\n",
    "accuracy = (tp + tn) / (tp + tn + fp + fn)\n",
    "recall = tp / (tp + fn)\n",
    "precision = tp / (tp + fp)"
   ]
  },
  {
   "cell_type": "markdown",
   "id": "7bb78b29",
   "metadata": {},
   "source": [
    "Given the following confusion matrix, evaluate (by hand) the model's performance.\n",
    "\n",
    "|               | pred dog   | pred cat   |\n",
    "|:------------  |-----------:|-----------:|\n",
    "| actual dog    |         46 |         7  |\n",
    "| actual cat    |         13 |         34 |\n",
    "\n",
    "### In the context of this problem, what is a false positive?\n",
    "\n",
    "   - False Positive : predicting a cat, but it's actually a dog\n",
    "   \n",
    "### In the context of this problem, what is a false negative?\n",
    "\n",
    "   - False Negative : predicting a dog, but it's actually a cat\n",
    "   \n",
    "### How would you describe this model?\n",
    "\n",
    "   - Dog -classifier, 'dog' is the positive prediction\n",
    "   "
   ]
  },
  {
   "cell_type": "code",
   "execution_count": 8,
   "id": "64cd50a7",
   "metadata": {},
   "outputs": [
    {
     "name": "stdout",
     "output_type": "stream",
     "text": [
      "Accuracy is 0.8%\n",
      "Recall is 0.72%\n",
      "Precision is 0.83%\n"
     ]
    }
   ],
   "source": [
    "tp = 34\n",
    "fp = 7\n",
    "fn = 13\n",
    "tn = 46\n",
    "\n",
    "accuracy = (tp + tn) / (tp + tn + fp + fn)\n",
    "recall = tp / (tp + fn)\n",
    "precision = tp / (tp + fp)\n",
    "\n",
    "print(f'Accuracy is {accuracy}%')\n",
    "print(f'Recall is {round(recall, 2)}%')\n",
    "print(f'Precision is {round(precision, 2)}%')"
   ]
  },
  {
   "cell_type": "code",
   "execution_count": null,
   "id": "3b32e0fa",
   "metadata": {},
   "outputs": [],
   "source": []
  }
 ],
 "metadata": {
  "kernelspec": {
   "display_name": "Python 3 (ipykernel)",
   "language": "python",
   "name": "python3"
  },
  "language_info": {
   "codemirror_mode": {
    "name": "ipython",
    "version": 3
   },
   "file_extension": ".py",
   "mimetype": "text/x-python",
   "name": "python",
   "nbconvert_exporter": "python",
   "pygments_lexer": "ipython3",
   "version": "3.9.7"
  }
 },
 "nbformat": 4,
 "nbformat_minor": 5
}
